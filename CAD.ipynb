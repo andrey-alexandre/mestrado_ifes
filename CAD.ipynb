{
  "cells": [
    {
      "cell_type": "markdown",
      "source": [
        "# Configuração de ambiente"
      ],
      "metadata": {
        "id": "AcuuDX-KaPQ5"
      }
    },
    {
      "cell_type": "code",
      "execution_count": null,
      "metadata": {
        "id": "oNDO0yFm6ok2"
      },
      "outputs": [],
      "source": [
        "%pip install crewai crewai-tools poetry vllm\n",
        "!curl -fsSL https://ollama.com/install.sh | sh\n",
        "!pip install pymupdf langchain-community langchain-core langgraph faiss-cpu\n",
        "!pip install langchain --upgrade"
      ]
    },
    {
      "cell_type": "code",
      "execution_count": 2,
      "metadata": {
        "colab": {
          "base_uri": "https://localhost:8080/"
        },
        "id": "2uDO5w6tRNYP",
        "outputId": "ee3e3bdd-15dc-4bc1-a4dd-bb56ed502519"
      },
      "outputs": [
        {
          "output_type": "stream",
          "name": "stdout",
          "text": [
            "nohup: redirecting stderr to stdout\n",
            "nohup: appending output to 'nohup.out'\n"
          ]
        }
      ],
      "source": [
        "!nohup ollama serve > ollama.log &\n",
        "!nohup ollama run llava:7b &"
      ]
    },
    {
      "cell_type": "markdown",
      "source": [
        "# Criação da RAG leve com base no PDF"
      ],
      "metadata": {
        "id": "cT-yn2CHaUdK"
      }
    },
    {
      "cell_type": "code",
      "execution_count": null,
      "metadata": {
        "id": "0zYWJxJibi_o"
      },
      "outputs": [],
      "source": [
        "import pymupdf  # PyMuPDF\n",
        "import os\n",
        "import zipfile\n",
        "\n",
        "# Caminho do arquivo ZIP enviado pelo usuário\n",
        "zip_path = \"RAG.zip\"\n",
        "extracted_path = \"extracted_pdfs\"\n",
        "\n",
        "# Extraindo os PDFs\n",
        "os.makedirs(extracted_path, exist_ok=True)\n",
        "with zipfile.ZipFile(zip_path, 'r') as zip_ref:\n",
        "    zip_ref.extractall(extracted_path)\n",
        "\n",
        "# Função para extrair texto de PDFs\n",
        "def extract_text_from_pdfs(pdf_folder):\n",
        "    text_data = \"\"\n",
        "    for pdf_file in os.listdir(pdf_folder):\n",
        "        if pdf_file.endswith(\".pdf\"):\n",
        "            pdf_path = os.path.join(pdf_folder, pdf_file)\n",
        "            doc = pymupdf.open(pdf_path)\n",
        "            for page in doc:\n",
        "                text_data += page.get_text(\"text\") + \"\\n\\n\"\n",
        "    return text_data\n",
        "\n",
        "# Extraindo texto dos PDFs\n",
        "medical_texts = extract_text_from_pdfs(extracted_path)\n",
        "\n",
        "# Salvando em um arquivo de texto\n",
        "medical_texts_path = \"medical_texts.txt\"\n",
        "with open(medical_texts_path, \"w\", encoding=\"utf-8\") as f:\n",
        "    f.write(medical_texts)\n",
        "\n",
        "# Retornar o caminho do arquivo salvo\n",
        "medical_texts_path\n"
      ]
    },
    {
      "cell_type": "markdown",
      "source": [
        "# Criando objeto do RAG"
      ],
      "metadata": {
        "id": "e8oGdw2EaY3L"
      }
    },
    {
      "cell_type": "code",
      "execution_count": null,
      "metadata": {
        "id": "NqlLrZmAPccw"
      },
      "outputs": [],
      "source": [
        "from langchain_community.chat_models import ChatOllama\n",
        "from langchain.schema import SystemMessage, HumanMessage\n",
        "from langchain_community.vectorstores.faiss import FAISS\n",
        "from langchain.embeddings import SentenceTransformerEmbeddings\n",
        "from langchain.document_loaders import TextLoader\n",
        "from langchain.text_splitter import RecursiveCharacterTextSplitter\n",
        "from langchain.chains import RetrievalQA\n",
        "from langgraph.graph import StateGraph, START, END\n",
        "from pydantic import BaseModel, Field\n",
        "import numpy as np\n",
        "\n",
        "\n",
        "# Carregar embeddings do Sentence-Transformers\n",
        "embeddings = SentenceTransformerEmbeddings(model_name=\"all-MiniLM-L6-v2\")\n",
        "\n",
        "# Carregar e processar documentos médicos (já extraídos dos PDFs)\n",
        "loader = TextLoader(\"medical_texts.txt\")  # Arquivo consolidado com informações médicas extraídas\n",
        "texts = loader.load()\n",
        "text_splitter = RecursiveCharacterTextSplitter(chunk_size=500, chunk_overlap=50)\n",
        "documents = text_splitter.split_documents(texts)\n",
        "\n",
        "# Criar banco vetorial FAISS\n",
        "vectorstore = FAISS.from_documents(documents, embeddings)\n",
        "retriever = vectorstore.as_retriever()\n",
        "\n",
        "# Configurar modelo LLM\n",
        "llm = ChatOllama(model=\"llava:7b\")  # Trocar conforme necessário"
      ]
    },
    {
      "cell_type": "markdown",
      "source": [
        "# Leitura do modelo selecionado"
      ],
      "metadata": {
        "id": "TQSbj5Rladia"
      }
    },
    {
      "cell_type": "code",
      "source": [
        "from Image_Segmentation.network import U_Net,R2U_Net,AttU_Net,R2AttU_Net\n",
        "import torch\n",
        "import torch.nn.functional as F\n",
        "from torchvision import transforms as T\n",
        "from PIL import Image\n",
        "import random\n",
        "\n",
        "model = U_Net(img_ch=3,output_ch=1)\n",
        "model.load_state_dict(torch.load('./U_Net-100-0.0005-70-0.6667.pkl', map_location=torch.device('cpu')))"
      ],
      "metadata": {
        "id": "RcKjHtjz1abu"
      },
      "execution_count": null,
      "outputs": []
    },
    {
      "cell_type": "markdown",
      "source": [
        "# Criação dos agentes e fluxo"
      ],
      "metadata": {
        "id": "916pG_YZaoFF"
      }
    },
    {
      "cell_type": "code",
      "execution_count": 64,
      "metadata": {
        "colab": {
          "base_uri": "https://localhost:8080/"
        },
        "id": "hHYDPFDXa9qc",
        "outputId": "1ac68bc8-aad7-4328-8eac-a5bf0dd2a72e"
      },
      "outputs": [
        {
          "output_type": "stream",
          "name": "stdout",
          "text": [
            "<generator object Pregel.stream at 0x7cfdbdb80fc0>\n"
          ]
        }
      ],
      "source": [
        "# Configurar agentes\n",
        "class SegmentationAgent:\n",
        "  def __init__(self,model,threshold=.5,image_size=224,mode='train',augmentation_prob=0.4):\n",
        "    self.model = model\n",
        "    self.image_size = image_size\n",
        "    self.mode = mode\n",
        "    self.RotationDegree = [0,90,180,270]\n",
        "    self.augmentation_prob = augmentation_prob\n",
        "\n",
        "  def segment_image(self, state):\n",
        "    \"\"\"Reads an image from a file and preprocesses it and returns.\"\"\"\n",
        "    image = Image.open(state.image_path)\n",
        "\n",
        "    aspect_ratio = image.size[1]/image.size[0]\n",
        "\n",
        "    Transform = []\n",
        "\n",
        "    ResizeRange = random.randint(300,320)\n",
        "    Transform.append(T.Resize((int(ResizeRange*aspect_ratio),ResizeRange)))\n",
        "    p_transform = random.random()\n",
        "\n",
        "    # if (self.mode == 'train') and p_transform <= self.augmentation_prob:\n",
        "    #   RotationDegree = random.randint(0,3)\n",
        "    #   RotationDegree = self.RotationDegree[RotationDegree]\n",
        "    #   if (RotationDegree == 90) or (RotationDegree == 270):\n",
        "    #     aspect_ratio = 1/aspect_ratio\n",
        "\n",
        "    #   Transform.append(T.RandomRotation((RotationDegree,RotationDegree)))\n",
        "\n",
        "    #   RotationRange = random.randint(-10,10)\n",
        "    #   Transform.append(T.RandomRotation((RotationRange,RotationRange)))\n",
        "    #   CropRange = random.randint(250,270)\n",
        "    #   Transform.append(T.CenterCrop((int(CropRange*aspect_ratio),CropRange)))\n",
        "    #   Transform = T.Compose(Transform)\n",
        "\n",
        "    #   image = Transform(image)\n",
        "\n",
        "    #   ShiftRange_left = random.randint(0,20)\n",
        "    #   ShiftRange_upper = random.randint(0,20)\n",
        "    #   ShiftRange_right = image.size[0] - random.randint(0,20)\n",
        "    #   ShiftRange_lower = image.size[1] - random.randint(0,20)\n",
        "    #   image = image.crop(box=(ShiftRange_left,ShiftRange_upper,ShiftRange_right,ShiftRange_lower))\n",
        "\n",
        "    #   if random.random() < 0.5:\n",
        "    #     image = F.hflip(image)\n",
        "\n",
        "    #   if random.random() < 0.5:\n",
        "    #     image = F.vflip(image)\n",
        "\n",
        "    #   Transform = T.ColorJitter(brightness=0.2,contrast=0.2,hue=0.02)\n",
        "\n",
        "    #   image = Transform(image)\n",
        "\n",
        "    #   Transform =[]\n",
        "\n",
        "\n",
        "    Transform.append(T.Resize((int(256*aspect_ratio)-int(256*aspect_ratio)%16,256)))\n",
        "    Transform.append(T.ToTensor())\n",
        "    Transform = T.Compose(Transform)\n",
        "\n",
        "    image = Transform(image)\n",
        "\n",
        "    Norm_ = T.Normalize((0.5, 0.5, 0.5), (0.5, 0.5, 0.5))\n",
        "    image = Norm_(image)\n",
        "\n",
        "    SR = model(image.unsqueeze(0))\n",
        "    SR_s = F.sigmoid(SR)\n",
        "\n",
        "    SR_image = (SR_s>.9)*image\n",
        "\n",
        "    return {\"image_data\": SR_image.detach().numpy()}\n",
        "#tensor_image = SegmentationAgent('/content/image/ISIC_0036209.jpg', model).segment_image()\n",
        "#plt.imshow(tensor_image[0].permute(1, 2, 0))\n",
        "\n",
        "class DiagnosticAgent:\n",
        "    def __init__(self, llm):\n",
        "        self.llm = llm\n",
        "\n",
        "    def analyze_lesion(self, state):\n",
        "        # Simulação da análise de imagem segmentada\n",
        "        # content_str = \"\"\"Utilize técnicas avançadas de análise de imagem para identificar padrões visuais e\n",
        "        # características relevantes em lesões cutâneas, permitindo uma avaliação inicial detalhada para auxiliar em\n",
        "        # investigações médicas.\"\"\"\n",
        "        # content_str = \"\"\"Com base na imagem fornecida, descreva detalhadamente as características visuais específicas\n",
        "        # da lesão analisada. Inclua informações sobre textura, cor, bordas, forma e padrões internos observados. Compare\n",
        "        # essas características com padrões conhecidos de lesões cutâneas documentadas na literatura médica. Apresente um\n",
        "        # parecer objetivo, sem fornecer diagnósticos, apenas detalhando as semelhanças e diferenças com condições\n",
        "        # dermatológicas reconhecidas.\"\"\"\n",
        "        content_str = \"\"\"Descreva a imagem com base no checklist de 7 pontos.\"\"\"\n",
        "        msg = [{\"role\": \"user\", \"content\": content_str, \"images\": [state.image_data]}]\n",
        "        return {\"diagnosis\": self.llm.invoke(msg).content}#\"Lesão apresenta pigmentação irregular e bordas assimétricas. Possível risco moderado.\"}\n",
        "\n",
        "class PrognosticAgent:\n",
        "    def __init__(self, llm):\n",
        "        self.llm = llm\n",
        "\n",
        "    def assess_risk(self, state):\n",
        "      # content_str = \"\"\"Analise as imagens das lesões para identificar tendências visuais e padrões associados à\n",
        "      # progressão da condição, colaborando com a equipe para fornecer uma avaliação detalhada da possível evolução do\n",
        "      # quadro.\n",
        "      # \"\"\"\n",
        "      # content_str=\"\"\"Com base na imagem analisada, descreva possíveis padrões evolutivos da lesão observada. Considere\n",
        "      # fatores como variações na coloração, bordas, simetria e possíveis mudanças estruturais ao longo do tempo. Compare\n",
        "      # essas características com padrões documentados na literatura médica sobre a progressão de condições\n",
        "      # dermatológicas. Relate quais indícios visuais podem sugerir maior ou menor risco de agravamento.\n",
        "      # \"\"\"\n",
        "      content_str=\"\"\"Com base na imagem disponibilizada, descreva possíveis padrões evolutivos da lesão observada. Considere\n",
        "      fatores como variações na coloração, bordas, simetria e possíveis mudanças estruturais ao longo do tempo. Compare\n",
        "      essas características com padrões documentados na literatura médica sobre a progressão de condições\n",
        "      dermatológicas. Relate quais indícios visuais podem sugerir maior ou menor risco de agravamento.\n",
        "      \"\"\"\n",
        "      msg = [{\"role\": \"user\", \"content\": content_str, \"images\": [state.image_data]}]\n",
        "      return {\"prognosis\": self.llm.invoke(msg).content}\n",
        "\n",
        "class SummaryAgent:\n",
        "    def __init__(self, llm):\n",
        "        self.llm = llm\n",
        "\n",
        "    def summarize(self, state):\n",
        "      content_str=f\"\"\"Com base nas descrições fornecidas pelos especialistas, compile um relatório estruturado sobre a lesão analisada. O relatório deve incluir:\n",
        "1️⃣ Características Visuais: Resumo das observações sobre textura, coloração, bordas e padrões internos da lesão.\n",
        "2️⃣ Análise Comparativa: Como essas características se relacionam com padrões conhecidos de lesões dermatológicas.\n",
        "3️⃣ Estimativa de Evolução: Possíveis mudanças na lesão ao longo do tempo, considerando padrões documentados.\n",
        "4️⃣ Recomendações: Medidas sugeridas para acompanhamento, investigações adicionais ou intervenção clínica, se aplicável.\n",
        "\n",
        "Apresente o relatório em formato JSON, garantindo clareza e organização das informações.\n",
        "      [[{state.diagnosis}]]\n",
        "      <<{state.prognosis}>>\n",
        "      \"\"\"\n",
        "      msg = [{\"role\": \"user\", \"content\": content_str, \"images\": [state.image_data]}]\n",
        "      return {\"validation\": self.llm.invoke(msg).content}\n",
        "\n",
        "# Configurar agente crítico\n",
        "class CriticalReviewAgent:\n",
        "    def __init__(self, retriever, llm):\n",
        "        self.retriever = retriever\n",
        "        self.llm = llm\n",
        "\n",
        "    def validate_diagnosis(self, state):\n",
        "        retrieved_docs = self.retriever.invoke(state.diagnosis)\n",
        "        return {\"final_report\": f\"Confirmação baseada em literatura médica: {retrieved_docs[0].page_content[:200]}...\"}\n",
        "\n",
        "\n",
        "# Definir o esquema de estado inicial\n",
        "class GraphState(BaseModel):\n",
        "    image_path: str\n",
        "    image_data: np.ndarray = Field(default_factory=lambda: np.zeros(10))\n",
        "    diagnosis: str = None\n",
        "    prognosis: str = None\n",
        "    validation: str = None\n",
        "    final_report: str = None\n",
        "    class Config:\n",
        "        arbitrary_types_allowed = True\n",
        "\n",
        "# Criar fluxo no LangGraph\n",
        "graph = StateGraph(GraphState)\n",
        "\n",
        "graph.add_node(\"segmentation\", SegmentationAgent(model).segment_image)\n",
        "graph.add_node(\"diagnostic\", DiagnosticAgent(llm).analyze_lesion)\n",
        "graph.add_node(\"prognostic\", PrognosticAgent(llm).assess_risk)\n",
        "graph.add_node(\"summary\", SummaryAgent(llm).summarize)\n",
        "graph.add_node(\"critical_review\", CriticalReviewAgent(retriever, llm).validate_diagnosis)\n",
        "\n",
        "# Definir conexões do fluxo\n",
        "graph.add_edge(START, \"segmentation\")\n",
        "graph.add_edge(\"segmentation\", \"diagnostic\")\n",
        "graph.add_edge(\"diagnostic\", \"prognostic\")\n",
        "graph.add_edge(\"prognostic\", \"summary\")\n",
        "graph.add_edge(\"summary\", \"critical_review\")\n",
        "graph.add_edge(\"critical_review\", END)\n",
        "\n",
        "g = graph.compile()\n",
        "\n",
        "# Executar o fluxo de teste\n",
        "output = g.stream({\"image_path\": \"/content/image/ISIC_0036252.jpg\"}, stream_mode=\"values\")\n",
        "print(output)\n"
      ]
    },
    {
      "cell_type": "code",
      "source": [
        "# output = g.stream({\"image_data\": \"./ISIC_0036252.jpg\"}, stream_mode=\"values\")\n",
        "# # print(output)\n",
        "\n",
        "for event in output:\n",
        "  print(event)"
      ],
      "metadata": {
        "colab": {
          "base_uri": "https://localhost:8080/"
        },
        "id": "OeJoRR4ObJf0",
        "outputId": "cd1545d0-e01a-47d2-ffd6-6f03e4a83697"
      },
      "execution_count": 65,
      "outputs": [
        {
          "output_type": "stream",
          "name": "stdout",
          "text": [
            "{'image_path': '/content/image/ISIC_0036252.jpg'}\n",
            "{'image_path': '/content/image/ISIC_0036252.jpg', 'image_data': array([[[[ 0.,  0.,  0., ...,  0.,  0.,  0.],\n",
            "         [ 0.,  0.,  0., ...,  0.,  0.,  0.],\n",
            "         [ 0.,  0.,  0., ...,  0.,  0.,  0.],\n",
            "         ...,\n",
            "         [-0., -0., -0., ..., -0., -0., -0.],\n",
            "         [-0., -0., -0., ..., -0., -0., -0.],\n",
            "         [-0., -0., -0., ..., -0., -0., -0.]],\n",
            "\n",
            "        [[-0.,  0.,  0., ..., -0., -0., -0.],\n",
            "         [ 0.,  0.,  0., ...,  0., -0., -0.],\n",
            "         [ 0.,  0.,  0., ...,  0., -0., -0.],\n",
            "         ...,\n",
            "         [-0., -0., -0., ..., -0., -0., -0.],\n",
            "         [-0., -0., -0., ..., -0., -0., -0.],\n",
            "         [-0., -0., -0., ..., -0., -0., -0.]],\n",
            "\n",
            "        [[-0., -0., -0., ..., -0., -0., -0.],\n",
            "         [-0., -0., -0., ..., -0., -0., -0.],\n",
            "         [-0., -0., -0., ..., -0., -0., -0.],\n",
            "         ...,\n",
            "         [-0., -0., -0., ..., -0., -0., -0.],\n",
            "         [-0., -0., -0., ..., -0., -0., -0.],\n",
            "         [-0., -0., -0., ..., -0., -0., -0.]]]], dtype=float32)}\n",
            "{'image_path': '/content/image/ISIC_0036252.jpg', 'image_data': array([[[[ 0.,  0.,  0., ...,  0.,  0.,  0.],\n",
            "         [ 0.,  0.,  0., ...,  0.,  0.,  0.],\n",
            "         [ 0.,  0.,  0., ...,  0.,  0.,  0.],\n",
            "         ...,\n",
            "         [-0., -0., -0., ..., -0., -0., -0.],\n",
            "         [-0., -0., -0., ..., -0., -0., -0.],\n",
            "         [-0., -0., -0., ..., -0., -0., -0.]],\n",
            "\n",
            "        [[-0.,  0.,  0., ..., -0., -0., -0.],\n",
            "         [ 0.,  0.,  0., ...,  0., -0., -0.],\n",
            "         [ 0.,  0.,  0., ...,  0., -0., -0.],\n",
            "         ...,\n",
            "         [-0., -0., -0., ..., -0., -0., -0.],\n",
            "         [-0., -0., -0., ..., -0., -0., -0.],\n",
            "         [-0., -0., -0., ..., -0., -0., -0.]],\n",
            "\n",
            "        [[-0., -0., -0., ..., -0., -0., -0.],\n",
            "         [-0., -0., -0., ..., -0., -0., -0.],\n",
            "         [-0., -0., -0., ..., -0., -0., -0.],\n",
            "         ...,\n",
            "         [-0., -0., -0., ..., -0., -0., -0.],\n",
            "         [-0., -0., -0., ..., -0., -0., -0.],\n",
            "         [-0., -0., -0., ..., -0., -0., -0.]]]], dtype=float32), 'diagnosis': ' A imagem parece ser uma foto que mostra um ambiente interno, provavelmente dentro de uma casa ou apartamento. O ponto 1 do checklist sugere que houve alterações no espaço, mas não é possível identificar exatamente qual a mudança foi sem mais contexto.\\n\\nO ponto 2 fala de uma superfície branca, mas nenhum elemento na imagem seja identificado como tendo essa cor.\\n\\nO ponto 3 diz que há cores vivas, mas não é possível dizer quais são elas sem mais informações.\\n\\nO ponto 4 sugestiona a existência de um ambiente feito para o foco, e isso parece ser o caso na imagem. Há uma luz bem distribuída no espaço, com iluminação da luz principal no teto e possivelmente outras fontes de luz suplementares como lâmpadas ou iluminadores.\\n\\nO ponto 5 menciona a presença de elementos naturais, mas na imagem não há nenhuma evidência de materialidade ou textura natural.\\n\\nO ponto 6 diz que houve uma mudança no espaço, mas como mencionado anteriormente, sem mais detalhes é impossível dizer quê foi a alteração concretamente.\\n\\nPor fim, o ponto 7 sugere a existência de um tema central, mas também não é possível determinar qual esse tema é sem mais informações ou descrição do espaço. A imagem mostra um ambiente comum em casa, com uma mesa e cadeiras no fundo, sendo uma sala comum usada para diner e reuniões, mas não há detalhes específicos que possam indicar qual esse tema central seria. '}\n",
            "{'image_path': '/content/image/ISIC_0036252.jpg', 'image_data': array([[[[ 0.,  0.,  0., ...,  0.,  0.,  0.],\n",
            "         [ 0.,  0.,  0., ...,  0.,  0.,  0.],\n",
            "         [ 0.,  0.,  0., ...,  0.,  0.,  0.],\n",
            "         ...,\n",
            "         [-0., -0., -0., ..., -0., -0., -0.],\n",
            "         [-0., -0., -0., ..., -0., -0., -0.],\n",
            "         [-0., -0., -0., ..., -0., -0., -0.]],\n",
            "\n",
            "        [[-0.,  0.,  0., ..., -0., -0., -0.],\n",
            "         [ 0.,  0.,  0., ...,  0., -0., -0.],\n",
            "         [ 0.,  0.,  0., ...,  0., -0., -0.],\n",
            "         ...,\n",
            "         [-0., -0., -0., ..., -0., -0., -0.],\n",
            "         [-0., -0., -0., ..., -0., -0., -0.],\n",
            "         [-0., -0., -0., ..., -0., -0., -0.]],\n",
            "\n",
            "        [[-0., -0., -0., ..., -0., -0., -0.],\n",
            "         [-0., -0., -0., ..., -0., -0., -0.],\n",
            "         [-0., -0., -0., ..., -0., -0., -0.],\n",
            "         ...,\n",
            "         [-0., -0., -0., ..., -0., -0., -0.],\n",
            "         [-0., -0., -0., ..., -0., -0., -0.],\n",
            "         [-0., -0., -0., ..., -0., -0., -0.]]]], dtype=float32), 'diagnosis': ' A imagem parece ser uma foto que mostra um ambiente interno, provavelmente dentro de uma casa ou apartamento. O ponto 1 do checklist sugere que houve alterações no espaço, mas não é possível identificar exatamente qual a mudança foi sem mais contexto.\\n\\nO ponto 2 fala de uma superfície branca, mas nenhum elemento na imagem seja identificado como tendo essa cor.\\n\\nO ponto 3 diz que há cores vivas, mas não é possível dizer quais são elas sem mais informações.\\n\\nO ponto 4 sugestiona a existência de um ambiente feito para o foco, e isso parece ser o caso na imagem. Há uma luz bem distribuída no espaço, com iluminação da luz principal no teto e possivelmente outras fontes de luz suplementares como lâmpadas ou iluminadores.\\n\\nO ponto 5 menciona a presença de elementos naturais, mas na imagem não há nenhuma evidência de materialidade ou textura natural.\\n\\nO ponto 6 diz que houve uma mudança no espaço, mas como mencionado anteriormente, sem mais detalhes é impossível dizer quê foi a alteração concretamente.\\n\\nPor fim, o ponto 7 sugere a existência de um tema central, mas também não é possível determinar qual esse tema é sem mais informações ou descrição do espaço. A imagem mostra um ambiente comum em casa, com uma mesa e cadeiras no fundo, sendo uma sala comum usada para diner e reuniões, mas não há detalhes específicos que possam indicar qual esse tema central seria. ', 'prognosis': ' Desculpe, não posso fornecer uma descrição da imagem porque ela não foi anexada ao seu comentário. Por favor, envie a imagem para que eu possa analisá-la e discutir os padrões evolutivos possíveis. '}\n",
            "{'image_path': '/content/image/ISIC_0036252.jpg', 'image_data': array([[[[ 0.,  0.,  0., ...,  0.,  0.,  0.],\n",
            "         [ 0.,  0.,  0., ...,  0.,  0.,  0.],\n",
            "         [ 0.,  0.,  0., ...,  0.,  0.,  0.],\n",
            "         ...,\n",
            "         [-0., -0., -0., ..., -0., -0., -0.],\n",
            "         [-0., -0., -0., ..., -0., -0., -0.],\n",
            "         [-0., -0., -0., ..., -0., -0., -0.]],\n",
            "\n",
            "        [[-0.,  0.,  0., ..., -0., -0., -0.],\n",
            "         [ 0.,  0.,  0., ...,  0., -0., -0.],\n",
            "         [ 0.,  0.,  0., ...,  0., -0., -0.],\n",
            "         ...,\n",
            "         [-0., -0., -0., ..., -0., -0., -0.],\n",
            "         [-0., -0., -0., ..., -0., -0., -0.],\n",
            "         [-0., -0., -0., ..., -0., -0., -0.]],\n",
            "\n",
            "        [[-0., -0., -0., ..., -0., -0., -0.],\n",
            "         [-0., -0., -0., ..., -0., -0., -0.],\n",
            "         [-0., -0., -0., ..., -0., -0., -0.],\n",
            "         ...,\n",
            "         [-0., -0., -0., ..., -0., -0., -0.],\n",
            "         [-0., -0., -0., ..., -0., -0., -0.],\n",
            "         [-0., -0., -0., ..., -0., -0., -0.]]]], dtype=float32), 'diagnosis': ' A imagem parece ser uma foto que mostra um ambiente interno, provavelmente dentro de uma casa ou apartamento. O ponto 1 do checklist sugere que houve alterações no espaço, mas não é possível identificar exatamente qual a mudança foi sem mais contexto.\\n\\nO ponto 2 fala de uma superfície branca, mas nenhum elemento na imagem seja identificado como tendo essa cor.\\n\\nO ponto 3 diz que há cores vivas, mas não é possível dizer quais são elas sem mais informações.\\n\\nO ponto 4 sugestiona a existência de um ambiente feito para o foco, e isso parece ser o caso na imagem. Há uma luz bem distribuída no espaço, com iluminação da luz principal no teto e possivelmente outras fontes de luz suplementares como lâmpadas ou iluminadores.\\n\\nO ponto 5 menciona a presença de elementos naturais, mas na imagem não há nenhuma evidência de materialidade ou textura natural.\\n\\nO ponto 6 diz que houve uma mudança no espaço, mas como mencionado anteriormente, sem mais detalhes é impossível dizer quê foi a alteração concretamente.\\n\\nPor fim, o ponto 7 sugere a existência de um tema central, mas também não é possível determinar qual esse tema é sem mais informações ou descrição do espaço. A imagem mostra um ambiente comum em casa, com uma mesa e cadeiras no fundo, sendo uma sala comum usada para diner e reuniões, mas não há detalhes específicos que possam indicar qual esse tema central seria. ', 'prognosis': ' Desculpe, não posso fornecer uma descrição da imagem porque ela não foi anexada ao seu comentário. Por favor, envie a imagem para que eu possa analisá-la e discutir os padrões evolutivos possíveis. ', 'validation': ' {\\n\"1️⃣ Características Visuais\": \"Não posso fornecer informações sobre as características visuais da lesão sem uma descrição mais detalhada ou a imagem anexada.\",\\n\"2️⃣ Análise Comparativa\": \"Por não ter informações específicas sobre os padrões conhecidos de lesões dermatológicas, não posso realizar uma análise comparativa.\",\\n\"3️⃣ Estimativa de Evolução\": \"Sem mais detalhes ou informações, é impossível fazer uma estimativa de evolução da lesão ao longo do tempo.\",\\n\"4️⃣ Recomendações\": \"Não posso sugerir recomendações para o acompanhamento, investigações adicionais ou intervenção clínica sem ter informações sobre as características visuais e outras informações relevantes.\"\\n} '}\n",
            "{'image_path': '/content/image/ISIC_0036252.jpg', 'image_data': array([[[[ 0.,  0.,  0., ...,  0.,  0.,  0.],\n",
            "         [ 0.,  0.,  0., ...,  0.,  0.,  0.],\n",
            "         [ 0.,  0.,  0., ...,  0.,  0.,  0.],\n",
            "         ...,\n",
            "         [-0., -0., -0., ..., -0., -0., -0.],\n",
            "         [-0., -0., -0., ..., -0., -0., -0.],\n",
            "         [-0., -0., -0., ..., -0., -0., -0.]],\n",
            "\n",
            "        [[-0.,  0.,  0., ..., -0., -0., -0.],\n",
            "         [ 0.,  0.,  0., ...,  0., -0., -0.],\n",
            "         [ 0.,  0.,  0., ...,  0., -0., -0.],\n",
            "         ...,\n",
            "         [-0., -0., -0., ..., -0., -0., -0.],\n",
            "         [-0., -0., -0., ..., -0., -0., -0.],\n",
            "         [-0., -0., -0., ..., -0., -0., -0.]],\n",
            "\n",
            "        [[-0., -0., -0., ..., -0., -0., -0.],\n",
            "         [-0., -0., -0., ..., -0., -0., -0.],\n",
            "         [-0., -0., -0., ..., -0., -0., -0.],\n",
            "         ...,\n",
            "         [-0., -0., -0., ..., -0., -0., -0.],\n",
            "         [-0., -0., -0., ..., -0., -0., -0.],\n",
            "         [-0., -0., -0., ..., -0., -0., -0.]]]], dtype=float32), 'diagnosis': ' A imagem parece ser uma foto que mostra um ambiente interno, provavelmente dentro de uma casa ou apartamento. O ponto 1 do checklist sugere que houve alterações no espaço, mas não é possível identificar exatamente qual a mudança foi sem mais contexto.\\n\\nO ponto 2 fala de uma superfície branca, mas nenhum elemento na imagem seja identificado como tendo essa cor.\\n\\nO ponto 3 diz que há cores vivas, mas não é possível dizer quais são elas sem mais informações.\\n\\nO ponto 4 sugestiona a existência de um ambiente feito para o foco, e isso parece ser o caso na imagem. Há uma luz bem distribuída no espaço, com iluminação da luz principal no teto e possivelmente outras fontes de luz suplementares como lâmpadas ou iluminadores.\\n\\nO ponto 5 menciona a presença de elementos naturais, mas na imagem não há nenhuma evidência de materialidade ou textura natural.\\n\\nO ponto 6 diz que houve uma mudança no espaço, mas como mencionado anteriormente, sem mais detalhes é impossível dizer quê foi a alteração concretamente.\\n\\nPor fim, o ponto 7 sugere a existência de um tema central, mas também não é possível determinar qual esse tema é sem mais informações ou descrição do espaço. A imagem mostra um ambiente comum em casa, com uma mesa e cadeiras no fundo, sendo uma sala comum usada para diner e reuniões, mas não há detalhes específicos que possam indicar qual esse tema central seria. ', 'prognosis': ' Desculpe, não posso fornecer uma descrição da imagem porque ela não foi anexada ao seu comentário. Por favor, envie a imagem para que eu possa analisá-la e discutir os padrões evolutivos possíveis. ', 'validation': ' {\\n\"1️⃣ Características Visuais\": \"Não posso fornecer informações sobre as características visuais da lesão sem uma descrição mais detalhada ou a imagem anexada.\",\\n\"2️⃣ Análise Comparativa\": \"Por não ter informações específicas sobre os padrões conhecidos de lesões dermatológicas, não posso realizar uma análise comparativa.\",\\n\"3️⃣ Estimativa de Evolução\": \"Sem mais detalhes ou informações, é impossível fazer uma estimativa de evolução da lesão ao longo do tempo.\",\\n\"4️⃣ Recomendações\": \"Não posso sugerir recomendações para o acompanhamento, investigações adicionais ou intervenção clínica sem ter informações sobre as características visuais e outras informações relevantes.\"\\n} ', 'final_report': 'Confirmação baseada em literatura médica: questions were structured according to the acronym \\nPICO (patient or population, intervention, comparison \\nor control and outcome), according to regulations of \\nthe National Health Agency, the Brazili...'}\n"
          ]
        }
      ]
    },
    {
      "cell_type": "code",
      "execution_count": 66,
      "metadata": {
        "colab": {
          "base_uri": "https://localhost:8080/"
        },
        "id": "t1hYoAmrsP_a",
        "outputId": "974c9cca-85ae-45a4-efa7-f830991c4f8c"
      },
      "outputs": [
        {
          "output_type": "stream",
          "name": "stdout",
          "text": [
            "Diagnóstico:\n",
            "  A imagem parece ser uma foto que mostra um ambiente interno, provavelmente dentro de uma casa ou apartamento. O ponto 1 do checklist sugere que houve alterações no espaço, mas não é possível identificar exatamente qual a mudança foi sem mais contexto.\n",
            "\n",
            "O ponto 2 fala de uma superfície branca, mas nenhum elemento na imagem seja identificado como tendo essa cor.\n",
            "\n",
            "O ponto 3 diz que há cores vivas, mas não é possível dizer quais são elas sem mais informações.\n",
            "\n",
            "O ponto 4 sugestiona a existência de um ambiente feito para o foco, e isso parece ser o caso na imagem. Há uma luz bem distribuída no espaço, com iluminação da luz principal no teto e possivelmente outras fontes de luz suplementares como lâmpadas ou iluminadores.\n",
            "\n",
            "O ponto 5 menciona a presença de elementos naturais, mas na imagem não há nenhuma evidência de materialidade ou textura natural.\n",
            "\n",
            "O ponto 6 diz que houve uma mudança no espaço, mas como mencionado anteriormente, sem mais detalhes é impossível dizer quê foi a alteração concretamente.\n",
            "\n",
            "Por fim, o ponto 7 sugere a existência de um tema central, mas também não é possível determinar qual esse tema é sem mais informações ou descrição do espaço. A imagem mostra um ambiente comum em casa, com uma mesa e cadeiras no fundo, sendo uma sala comum usada para diner e reuniões, mas não há detalhes específicos que possam indicar qual esse tema central seria.  \n",
            " ==================================================================================================== \n",
            "\n",
            "Prognóstico:\n",
            "  Desculpe, não posso fornecer uma descrição da imagem porque ela não foi anexada ao seu comentário. Por favor, envie a imagem para que eu possa analisá-la e discutir os padrões evolutivos possíveis.  \n",
            " ==================================================================================================== \n",
            "\n",
            "Relatório:\n",
            "  {\n",
            "\"1️⃣ Características Visuais\": \"Não posso fornecer informações sobre as características visuais da lesão sem uma descrição mais detalhada ou a imagem anexada.\",\n",
            "\"2️⃣ Análise Comparativa\": \"Por não ter informações específicas sobre os padrões conhecidos de lesões dermatológicas, não posso realizar uma análise comparativa.\",\n",
            "\"3️⃣ Estimativa de Evolução\": \"Sem mais detalhes ou informações, é impossível fazer uma estimativa de evolução da lesão ao longo do tempo.\",\n",
            "\"4️⃣ Recomendações\": \"Não posso sugerir recomendações para o acompanhamento, investigações adicionais ou intervenção clínica sem ter informações sobre as características visuais e outras informações relevantes.\"\n",
            "} \n"
          ]
        }
      ],
      "source": [
        "print(\"Diagnóstico:\\n\", event['diagnosis'],'\\n', 100*\"=\",'\\n')\n",
        "print(\"Prognóstico:\\n\", event['prognosis'],'\\n', 100*\"=\",'\\n')\n",
        "print(\"Relatório:\\n\", event['validation'])"
      ]
    },
    {
      "cell_type": "code",
      "source": [
        "import base64\n",
        "\n",
        "# Caminho da imagem\n",
        "image_path = \"./A-Cat.jpg\"\n",
        "\n",
        "# Converter a imagem para Base64\n",
        "with open(image_path, \"rb\") as image_file:\n",
        "    encoded_string = base64.b64encode(image_file.read()).decode(\"utf-8\")\n",
        "\n",
        "msg = [{\"role\": \"user\",\n",
        "        \"content\": \"Descreva a imagem\",\n",
        "        # \"content\": \"Descreva a imagem com base no checklist de 7 pontos para detecção de cancer de pele .\",\n",
        "        \"images\": [encoded_string]\n",
        "        }]\n",
        "response = llm.invoke(msg)\n",
        "print(response.content)"
      ],
      "metadata": {
        "colab": {
          "base_uri": "https://localhost:8080/"
        },
        "id": "LWfd-eW6uf_e",
        "outputId": "481f624e-2db5-4e74-e404-2c697b4363c3"
      },
      "execution_count": 63,
      "outputs": [
        {
          "output_type": "stream",
          "name": "stdout",
          "text": [
            " A imagem mostra uma cena de um ambiente interno, que parece ser uma sala ou corredor. Há um pequeno objeto roxo na parte superior esquerda da foto, o que pode ser uma estante ou prateleira. Atrás disso, há uma janela com um vidro e uma trave.\n",
            "\n",
            "O peixe está nadando em uma piscina dentro de um ambiente interno, talvez uma sala ou corredor, e parece estar vendo para a frente da cena. Ele tem uma barba curta e ombreiro mais escuro do que a parte superior do seu corpo. O peixe está em um estado de relaxamento, com as finas aletas de sua nadade ao ar livre.\n",
            "\n",
            "A imagem é de natureza artificial e parece estar sendo utilizada para ilustrar uma situação ou ser parte de um projeto artístico ou de um artigo informativo relacionado a peixes. O estilo da foto é casuoso e naturalista, sem nenhum tipo de edição ou filtro que desfigure o aspecto do peixe ou do ambiente. \n"
          ]
        }
      ]
    }
  ],
  "metadata": {
    "accelerator": "GPU",
    "colab": {
      "gpuType": "T4",
      "provenance": []
    },
    "kernelspec": {
      "display_name": "Python 3",
      "name": "python3"
    },
    "language_info": {
      "name": "python"
    }
  },
  "nbformat": 4,
  "nbformat_minor": 0
}