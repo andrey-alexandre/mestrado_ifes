{
  "cells": [
    {
      "cell_type": "markdown",
      "metadata": {
        "id": "AcuuDX-KaPQ5"
      },
      "source": [
        "# Configuração de ambiente"
      ]
    },
    {
      "cell_type": "code",
      "source": [
        "! mkdir ~/.kaggle\n",
        "! cp kaggle.json ~/.kaggle/\n",
        "! chmod 600 ~/.kaggle/kaggle.json\n",
        "!kaggle competitions download -c isic-2024-challenge\n",
        "!unzip isic-2024-challenge.zip -d Image"
      ],
      "metadata": {
        "id": "KiluezRDpz6c"
      },
      "execution_count": null,
      "outputs": []
    },
    {
      "cell_type": "code",
      "execution_count": 1,
      "metadata": {
        "id": "0PcaJG07Mjkh"
      },
      "outputs": [],
      "source": [
        "!mkdir Image_Segmentation"
      ]
    },
    {
      "cell_type": "code",
      "execution_count": null,
      "metadata": {
        "id": "oNDO0yFm6ok2"
      },
      "outputs": [],
      "source": [
        "#%pip install crewai crewai-tools poetry vllm\n",
        "!curl -fsSL https://ollama.com/install.sh | sh\n",
        "!pip install pymupdf langchain-community langchain-core langgraph faiss-cpu\n",
        "!pip install langchain --upgrade"
      ]
    },
    {
      "cell_type": "code",
      "execution_count": 18,
      "metadata": {
        "colab": {
          "base_uri": "https://localhost:8080/"
        },
        "id": "2uDO5w6tRNYP",
        "outputId": "b36dba88-5f5e-4f28-ae05-46d4e1c9c989"
      },
      "outputs": [
        {
          "output_type": "stream",
          "name": "stdout",
          "text": [
            "nohup: redirecting stderr to stdout\n",
            "nohup: appending output to 'nohup.out'\n"
          ]
        }
      ],
      "source": [
        "!nohup ollama serve > ollama.log &\n",
        "!nohup ollama run llava:13b &"
      ]
    },
    {
      "cell_type": "markdown",
      "metadata": {
        "id": "cT-yn2CHaUdK"
      },
      "source": [
        "# Criação da RAG leve com base no PDF"
      ]
    },
    {
      "cell_type": "code",
      "execution_count": null,
      "metadata": {
        "id": "0zYWJxJibi_o"
      },
      "outputs": [],
      "source": [
        "import pymupdf  # PyMuPDF\n",
        "import os\n",
        "import zipfile\n",
        "\n",
        "# Caminho do arquivo ZIP enviado pelo usuário\n",
        "zip_path = \"RAG.zip\"\n",
        "extracted_path = \"extracted_pdfs\"\n",
        "\n",
        "# Extraindo os PDFs\n",
        "os.makedirs(extracted_path, exist_ok=True)\n",
        "with zipfile.ZipFile(zip_path, 'r') as zip_ref:\n",
        "    zip_ref.extractall(extracted_path)\n",
        "\n",
        "# Função para extrair texto de PDFs\n",
        "def extract_text_from_pdfs(pdf_folder):\n",
        "    text_data = \"\"\n",
        "    for pdf_file in os.listdir(pdf_folder):\n",
        "        if pdf_file.endswith(\".pdf\"):\n",
        "            pdf_path = os.path.join(pdf_folder, pdf_file)\n",
        "            doc = pymupdf.open(pdf_path)\n",
        "            for page in doc:\n",
        "                text_data += page.get_text(\"text\") + \"\\n\\n\"\n",
        "    return text_data\n",
        "\n",
        "# Extraindo texto dos PDFs\n",
        "medical_texts = extract_text_from_pdfs(extracted_path)\n",
        "\n",
        "# Salvando em um arquivo de texto\n",
        "medical_texts_path = \"medical_texts.txt\"\n",
        "with open(medical_texts_path, \"w\", encoding=\"utf-8\") as f:\n",
        "    f.write(medical_texts)\n",
        "\n",
        "# Retornar o caminho do arquivo salvo\n",
        "medical_texts_path\n"
      ]
    },
    {
      "cell_type": "markdown",
      "metadata": {
        "id": "e8oGdw2EaY3L"
      },
      "source": [
        "# Criando objeto do RAG"
      ]
    },
    {
      "cell_type": "code",
      "execution_count": null,
      "metadata": {
        "id": "NqlLrZmAPccw"
      },
      "outputs": [],
      "source": [
        "from langchain_community.chat_models import ChatOllama\n",
        "from langchain.schema import SystemMessage, HumanMessage\n",
        "from langchain_community.vectorstores.faiss import FAISS\n",
        "from langchain.embeddings import SentenceTransformerEmbeddings\n",
        "from langchain.document_loaders import TextLoader\n",
        "from langchain.text_splitter import RecursiveCharacterTextSplitter\n",
        "from langchain.chains import RetrievalQA\n",
        "from langgraph.graph import StateGraph, START, END\n",
        "from pydantic import BaseModel, Field\n",
        "import numpy as np\n",
        "\n",
        "\n",
        "# Carregar embeddings do Sentence-Transformers\n",
        "embeddings = SentenceTransformerEmbeddings(model_name=\"all-MiniLM-L6-v2\")\n",
        "\n",
        "# Carregar e processar documentos médicos (já extraídos dos PDFs)\n",
        "loader = TextLoader(\"medical_texts.txt\")  # Arquivo consolidado com informações médicas extraídas\n",
        "texts = loader.load()\n",
        "text_splitter = RecursiveCharacterTextSplitter(chunk_size=500, chunk_overlap=50)\n",
        "documents = text_splitter.split_documents(texts)\n",
        "\n",
        "# Criar banco vetorial FAISS\n",
        "vectorstore = FAISS.from_documents(documents, embeddings)\n",
        "retriever = vectorstore.as_retriever()\n",
        "\n",
        "# Configurar modelo LLM\n",
        "llm = ChatOllama(model=\"llava:13b\")  # Trocar conforme necessário"
      ]
    },
    {
      "cell_type": "markdown",
      "metadata": {
        "id": "TQSbj5Rladia"
      },
      "source": [
        "# Leitura do modelo selecionado"
      ]
    },
    {
      "cell_type": "code",
      "execution_count": 7,
      "metadata": {
        "colab": {
          "base_uri": "https://localhost:8080/"
        },
        "id": "RcKjHtjz1abu",
        "outputId": "9106ff70-f01c-4fcc-e5ea-7840b4392ad5"
      },
      "outputs": [
        {
          "output_type": "execute_result",
          "data": {
            "text/plain": [
              "<All keys matched successfully>"
            ]
          },
          "metadata": {},
          "execution_count": 7
        }
      ],
      "source": [
        "from Image_Segmentation.network import U_Net,R2U_Net,AttU_Net,R2AttU_Net\n",
        "import torch\n",
        "import torch.nn.functional as F\n",
        "from torchvision import transforms as T\n",
        "import random\n",
        "import base64\n",
        "from PIL import Image\n",
        "from io import BytesIO\n",
        "\n",
        "\n",
        "model = U_Net(img_ch=3,output_ch=1)\n",
        "model.load_state_dict(torch.load('./U_Net-100-0.0005-70-0.6667.pkl', map_location=torch.device('cpu')))"
      ]
    },
    {
      "cell_type": "markdown",
      "metadata": {
        "id": "916pG_YZaoFF"
      },
      "source": [
        "# Criação dos agentes e fluxo"
      ]
    },
    {
      "cell_type": "code",
      "execution_count": 8,
      "metadata": {
        "id": "hHYDPFDXa9qc"
      },
      "outputs": [],
      "source": [
        "# Configurar agentes\n",
        "class SegmentationAgent:\n",
        "  def __init__(self,model,threshold=.5,image_size=224,mode='train',augmentation_prob=0.4):\n",
        "    self.model = model\n",
        "    self.image_size = image_size\n",
        "    self.mode = mode\n",
        "    self.RotationDegree = [0,90,180,270]\n",
        "    self.augmentation_prob = augmentation_prob\n",
        "\n",
        "  def convert_to_base64(self, pil_image):\n",
        "    \"\"\"\n",
        "    Convert PIL images to Base64 encoded strings\n",
        "\n",
        "    :param pil_image: PIL image\n",
        "    :return: Base64 string\n",
        "    \"\"\"\n",
        "    pil_image = pil_image.convert(\"RGB\")\n",
        "    buffered = BytesIO()\n",
        "    pil_image.save(buffered, format=\"JPEG\")\n",
        "    img_str = base64.b64encode(buffered.getvalue()).decode(\"utf-8\")\n",
        "    return img_str\n",
        "\n",
        "  def segment_image(self, state):\n",
        "    \"\"\"Reads an image from a file and preprocesses it and returns.\"\"\"\n",
        "    img = Image.open(state.image_path)\n",
        "    encoded_string = self.convert_to_base64(img)\n",
        "\n",
        "    aspect_ratio = img.size[1]/img.size[0]\n",
        "\n",
        "    Transform = []\n",
        "\n",
        "    ResizeRange = random.randint(300,320)\n",
        "    Transform.append(T.Resize((int(ResizeRange*aspect_ratio),ResizeRange)))\n",
        "    p_transform = random.random()\n",
        "\n",
        "    Transform.append(T.Resize((int(256*aspect_ratio)-int(256*aspect_ratio)%16,256)))\n",
        "    Transform.append(T.ToTensor())\n",
        "    Transform = T.Compose(Transform)\n",
        "    img_ = img\n",
        "    img = Transform(img)\n",
        "\n",
        "    SR = model(img.unsqueeze(0))\n",
        "    SR_s = F.sigmoid(SR)\n",
        "\n",
        "    SR_image = (SR_s>.4)*img\n",
        "    im = T.ToPILImage()(SR_image[0])\n",
        "    seg_encoded_string = self.convert_to_base64(im)\n",
        "\n",
        "    return {\"seg_image_data\": seg_encoded_string, \"image_data\": encoded_string}\n",
        "\n",
        "\n",
        "class ABCDDiagnosticAgent:\n",
        "    def __init__(self, llm):\n",
        "        self.llm = llm\n",
        "\n",
        "    def analyze_lesion(self, state):\n",
        "      content_str = f\"\"\"\n",
        "        Duas imagens foram fornecidas para análise:\n",
        "          1️⃣ Imagem original da lesão de pele, que mantém seu contexto visual completo.\n",
        "          2️⃣ Imagem segmentada, que realça os contornos e características internas da lesão.\n",
        "\n",
        "        Por favor, avalie a lesão cutânea na imagem abaixo utilizando o algoritmo ABCD de dermoscopia. Para cada um dos critérios (Assimetria, Bordas, Cor e Estruturas Dermoscópicas), forneça a pontuação de acordo com a seguinte escala:\n",
        "        Assimetria (A):\n",
        "          0: Nenhuma assimetria\n",
        "          1: Assimetria em um eixo\n",
        "          2: Assimetria em ambos os eixos\n",
        "        Bordas (B):\n",
        "          0: Bordas indistintas em todos os quadrantes\n",
        "          1-8: Bordas nítidas em alguns ou todos os quadrantes (pontuação proporcional)\n",
        "        Cor (C):\n",
        "          Atribua 1 ponto para cada cor presente (branco, vermelho, marrom claro, marrom escuro, azul-cinza, preto), com fator multiplicador de 0,5.\n",
        "        Estruturas Dermoscópicas (D):\n",
        "          Atribua 1 ponto para cada estrutura observada (áreas sem estrutura, rede pigmentada, linhas ramificadas, pontos, glóbulos), com fator multiplicador de 0,5.\n",
        "        Forneça a resposta no seguinte formato JSON:\n",
        "        {{\n",
        "          \"Pontos\": {{\n",
        "            \"Assimetria (A)\": valor de 0 a 2. Motivo.,\n",
        "            \"Bordas (B)\": valor de 0 a 8. Motivo.,\n",
        "            \"Cor (C)\": valor de 1 a 6. Motivo.,\n",
        "            \"Estruturas Dermoscópicas (D)\": valor de 1 a 5. Motivo.\n",
        "          }},\n",
        "          \"Explicação\": Explicação das pontuações dadas.\n",
        "        }}\n",
        "      \"\"\"\n",
        "      content = [\n",
        "          # {'type': 'image_url', 'image_url': f'data:image/jpeg;base64,{state.image_data}'},\n",
        "          {'type': 'text', 'text': \"Aqui está a imagem original da lesão:\"},\n",
        "          {'type': 'image_url', 'image_url': f'data:image/jpeg;base64,{state.image_data}'},\n",
        "          {'type': 'text', 'text': \"Aqui está a versão segmentada da lesão:Aqui está a versão segmentada da lesão:\"},\n",
        "          {'type': 'image_url', 'image_url': f'data:image/jpeg;base64,{state.seg_image_data}'},\n",
        "          {'type': 'text', 'text': content_str}\n",
        "      ]\n",
        "      msg = [HumanMessage(content=content)]\n",
        "      return {\"diagnosis_abcd\": llm.invoke(msg).content}\n",
        "\n",
        "\n",
        "class MenziesDiagnosticAgent:\n",
        "    def __init__(self, llm):\n",
        "        self.llm = llm\n",
        "\n",
        "    def analyze_lesion(self, state):\n",
        "      content_str = \"\"\"\n",
        "      Duas imagens foram fornecidas para análise:\n",
        "\n",
        "      1️⃣ Imagem original da lesão de pele, que mantém seu contexto visual completo.\n",
        "      2️⃣ Imagem segmentada, que realça os contornos e características internas da lesão.\n",
        "\n",
        "      Por favor, avalie a lesão cutânea na imagem abaixo utilizando o Método Menzies. Aplique os critérios para os Características Negativas e Características Positivas da seguinte forma:\n",
        "      Características Negativas (ambas devem estar ausentes para diagnóstico de melanoma):\n",
        "        Simetria do padrão de pigmentação: Se a lesão for simétrica na distribuição de cores, pontue 1. Caso contrário, pontue 0.\n",
        "        Cor Única: Se a lesão apresentar apenas uma cor, pontue 1. Caso contrário, pontue 0.\n",
        "      Características Positivas (pelo menos uma deve estar presente para diagnóstico de melanoma):\n",
        "        Véu Azul-Branco: Se presente, pontue 1. Caso contrário, pontue 0.\n",
        "        Múltiplos Pontos Marrons: Se presentes, pontue 1. Caso contrário, pontue 0.\n",
        "        Pseudópodes: Se presentes, pontue 1. Caso contrário, pontue 0.\n",
        "        Streaming Radial: Se presente, pontue 1. Caso contrário, pontue 0.\n",
        "        Despigmentação Tipo Cicatriz: Se presente, pontue 1. Caso contrário, pontue 0.\n",
        "        Pontos/Globulos Pretos Periféricos: Se presentes, pontue 1. Caso contrário, pontue 0.\n",
        "        Múltiplas Cores (Cinco a Seis Cores): Se presentes, pontue 1. Caso contrário, pontue 0.\n",
        "      Forneça a resposta no seguinte formato JSON:\n",
        "      {\n",
        "        \"Características Negativas\": {\n",
        "          \"Simetria do Padrão de Pigmentação\": 0 ou 1. Motivo.,\n",
        "          \"Cor Única\": 0 ou 1. Motivo.\n",
        "        },\n",
        "        \"Características Positivas\": {\n",
        "          \"Véu Azul-Branco\": 0 ou 1. Motivo.,\n",
        "          \"Múltiplos Pontos Marrons\": 0 ou 1. Motivo.,\n",
        "          \"Pseudópodes\": 0 ou 1. Motivo.,\n",
        "          \"Streaming Radial\": 0 ou 1. Motivo.,\n",
        "          \"Despigmentação Tipo Cicatriz\": 0 ou 1. Motivo.,\n",
        "          \"Pontos/Globulos Pretos Periféricos\": 0 ou 1. Motivo.,\n",
        "          \"Múltiplas Cores\": 0 ou 1. Motivo.\n",
        "        },\n",
        "          \"Explicação\": Explicação das pontuações dadas.\n",
        "      }\n",
        "      \"\"\"\n",
        "      content = [\n",
        "          # {'type': 'image_url', 'image_url': f'data:image/jpeg;base64,{state.image_data}'},\n",
        "          {'type': 'text', 'text': \"Aqui está a imagem original da lesão:\"},\n",
        "          {'type': 'image_url', 'image_url': f'data:image/jpeg;base64,{state.image_data}'},\n",
        "          {'type': 'text', 'text': \"Aqui está a versão segmentada da lesão:Aqui está a versão segmentada da lesão:\"},\n",
        "          {'type': 'image_url', 'image_url': f'data:image/jpeg;base64,{state.seg_image_data}'},\n",
        "          {'type': 'text', 'text': content_str}\n",
        "      ]\n",
        "      msg = [HumanMessage(content=content)]\n",
        "      return {\"diagnosis_menzies\": llm.invoke(msg).content}\n",
        "\n",
        "\n",
        "class SPCLDiagnosticAgent:\n",
        "    def __init__(self, llm):\n",
        "        self.llm = llm\n",
        "\n",
        "    def analyze_lesion(self, state):\n",
        "      content_str = f\"\"\"\n",
        "        Duas imagens foram fornecidas para análise:\n",
        "          1️⃣ Imagem original da lesão de pele, que mantém seu contexto visual completo.\n",
        "          2️⃣ Imagem segmentada, que realça os contornos e características internas da lesão.\n",
        "\n",
        "        Por favor, retorne uma resposta no seguinte formato JSON, baseado nas observações visuais de ambas imagens\n",
        "        fornecidas:\n",
        "        {{\n",
        "          \"Pontos\": {{\n",
        "            \"Assimetria\": \"Sim ou Não. Motivo.\",\n",
        "            \"Bordas Irregulares\": \"Sim ou Não. Motivo.\",\n",
        "            \"Cor Desigual\": \"Sim ou Não. Motivo.\",\n",
        "            \"Diâmetro Maior que 6 mm\": \"{'Sim' if state.lesion_size>6 else 'Não'}. Motivo.\",\n",
        "            \"Sangramento ou Secreção\": \"Sim ou Não. Motivo.\"\n",
        "          }},\n",
        "          \"Explicação\": Explicação das pontuações dadas.\n",
        "        }}\n",
        "      \"\"\"\n",
        "      content = [\n",
        "          # {'type': 'image_url', 'image_url': f'data:image/jpeg;base64,{state.image_data}'},\n",
        "          {'type': 'text', 'text': \"Aqui está a imagem original da lesão:\"},\n",
        "          {'type': 'image_url', 'image_url': f'data:image/jpeg;base64,{state.image_data}'},\n",
        "          {'type': 'text', 'text': \"Aqui está a versão segmentada da lesão:Aqui está a versão segmentada da lesão:\"},\n",
        "          {'type': 'image_url', 'image_url': f'data:image/jpeg;base64,{state.seg_image_data}'},\n",
        "          {'type': 'text', 'text': content_str}\n",
        "      ]\n",
        "      msg = [HumanMessage(content=content)]\n",
        "      return {\"diagnosis_spcl\": llm.invoke(msg).content}\n",
        "\n",
        "class SummaryAgent:\n",
        "    def __init__(self, llm):\n",
        "        self.llm = llm\n",
        "\n",
        "    def summarize(self, state):\n",
        "      content_str=f\"\"\"Você está atuando como um especialista que recebeu três pareceres técnicos distintos sobre uma mesma lesão cutânea, baseados nos seguintes algoritmos:\n",
        "      1️⃣ ABCD – {state.diagnosis_abcd}\n",
        "      2️⃣ Menzies – {state.diagnosis_menzies}\n",
        "      3️⃣ SPCL (Seven Point Checklist) – {state.diagnosis_spcl}\n",
        "\n",
        "      Sua função é integrar os três pareceres fornecidos, comparando seus resultados e justificativas, para construir um **diagnóstico consolidado e fundamentado**.\n",
        "\n",
        "      Considere:\n",
        "      - O grau de concordância ou conflito entre os algoritmos;\n",
        "      - A presença de padrões de alto risco recorrentes nos pareceres;\n",
        "      - A confiabilidade dos critérios observados (por exemplo, múltiplas cores, bordas irregulares e estruturas atípicas);\n",
        "      - A gravidade potencial com base em critérios combinados.\n",
        "\n",
        "      🧠 Ao final, forneça um parecer clínico estruturado em formato JSON:\n",
        "\n",
        "      ```json\n",
        "      {{\n",
        "        \"Diagnóstico Final\": \"Suspeita de Melanoma / Lesão Benigna / Lesão Indeterminada\",\n",
        "        \"Justificativa\": \"Integração das evidências dos algoritmos ABCD, Menzies e SPCL, destacando os principais achados.\",\n",
        "        \"Recomendações\": \"Sugestões clínicas como biópsia, acompanhamento, ou nenhuma ação imediata.\"\n",
        "      }}\n",
        "      \"\"\"\n",
        "      content = [\n",
        "          # {'type': 'text', 'text': \"Aqui está a imagem original da lesão:\"},\n",
        "          # {'type': 'image_url', 'image_url': f'data:image/jpeg;base64,{state.image_data}'},\n",
        "          # {'type': 'text', 'text': \"Aqui está a versão segmentada da lesão:Aqui está a versão segmentada da lesão:\"},\n",
        "          # {'type': 'image_url', 'image_url': f'data:image/jpeg;base64,{state.seg_image_data}'},\n",
        "          {'type': 'text', 'text': content_str}\n",
        "      ]\n",
        "      msg = [HumanMessage(content=content)]\n",
        "      return {\"validation\": llm.invoke(msg).content}\n",
        "\n",
        "# Configurar agente crítico\n",
        "class CriticalReviewAgent:\n",
        "    def __init__(self, retriever, llm):\n",
        "        self.retriever = retriever\n",
        "        self.llm = llm\n",
        "\n",
        "    def validate_diagnosis(self, state):\n",
        "        retrieved_docs = self.retriever.invoke(state.validation)\n",
        "        return {\"final_report\": f\"Confirmação baseada em literatura médica: {retrieved_docs[0].page_content[:200]}...\"}\n",
        "\n",
        "\n",
        "# Definir o esquema de estado inicial\n",
        "class GraphState(BaseModel):\n",
        "    image_path: str\n",
        "    lesion_size: float\n",
        "    image_data: str = None\n",
        "    seg_image_data: str = None\n",
        "    diagnosis_abcd: str = None\n",
        "    diagnosis_pattern: str = None\n",
        "    diagnosis_menzies: str = None\n",
        "    diagnosis_spcl: str = None\n",
        "    validation: str = None\n",
        "    final_report: str = None\n",
        "\n",
        "# Criar fluxo no LangGraph\n",
        "graph = StateGraph(GraphState)\n",
        "\n",
        "graph.add_node(\"segmentation\", SegmentationAgent(model).segment_image)\n",
        "graph.add_node(\"diagnostic_abcd\", ABCDDiagnosticAgent(llm).analyze_lesion)\n",
        "graph.add_node(\"diagnostic_menzies\", MenziesDiagnosticAgent(llm).analyze_lesion)\n",
        "graph.add_node(\"diagnostic_spcl\", SPCLDiagnosticAgent(llm).analyze_lesion)\n",
        "graph.add_node(\"summary\", SummaryAgent(llm).summarize)\n",
        "graph.add_node(\"critical_review\", CriticalReviewAgent(retriever, llm).validate_diagnosis)\n",
        "\n",
        "# Definir conexões do fluxo\n",
        "graph.add_edge(START, \"segmentation\")\n",
        "graph.add_edge(\"segmentation\", \"diagnostic_abcd\")\n",
        "graph.add_edge(\"segmentation\", \"diagnostic_menzies\")\n",
        "graph.add_edge(\"segmentation\", \"diagnostic_spcl\")\n",
        "graph.add_edge([\"diagnostic_abcd\", \"diagnostic_menzies\", \"diagnostic_spcl\"], \"summary\")\n",
        "graph.add_edge(\"summary\", \"critical_review\")\n",
        "graph.add_edge(\"critical_review\", END)\n",
        "\n",
        "g = graph.compile()"
      ]
    },
    {
      "cell_type": "markdown",
      "metadata": {
        "id": "KbdKYlYoNj7P"
      },
      "source": [
        "# Execução do agente"
      ]
    },
    {
      "cell_type": "code",
      "source": [
        "import pandas as pd\n",
        "from sklearn.model_selection import train_test_split\n",
        "\n",
        "\n",
        "dt_ref = pd.read_csv('/content/Image/train-metadata.csv')\n",
        "# train_df, test_df = train_test_split(\n",
        "#     dt_ref, test_size=10000, stratify=dt_ref['target'], random_state=42\n",
        "# )\n",
        "\n",
        "target_0_cases = dt_ref[dt_ref['target'] == 0].sample(n=50)\n",
        "target_1_cases = dt_ref[dt_ref['target'] == 1].sample(n=50)\n",
        "\n",
        "test_df = pd.concat([target_0_cases, target_1_cases])"
      ],
      "metadata": {
        "id": "6LtWAczNuBaJ",
        "colab": {
          "base_uri": "https://localhost:8080/"
        },
        "outputId": "ae1be061-e428-460b-b796-5ed20db7d0b9"
      },
      "execution_count": 9,
      "outputs": [
        {
          "output_type": "stream",
          "name": "stderr",
          "text": [
            "<ipython-input-9-4efb49373b33>:5: DtypeWarning: Columns (51,52) have mixed types. Specify dtype option on import or set low_memory=False.\n",
            "  dt_ref = pd.read_csv('/content/Image/train-metadata.csv')\n"
          ]
        }
      ]
    },
    {
      "cell_type": "code",
      "execution_count": null,
      "metadata": {
        "id": "-SfhpFs6bxms",
        "colab": {
          "base_uri": "https://localhost:8080/"
        },
        "outputId": "e7aaf39a-a8cf-4739-9fd1-8af9ad298bbf"
      },
      "outputs": [
        {
          "output_type": "stream",
          "name": "stdout",
          "text": [
            "1ª imagem iniciou!\n",
            "Tempo de análise da 1ª imagem: 102.8809 segundos\n",
            "2ª imagem iniciou!\n",
            "Tempo de análise da 2ª imagem: 42.7430 segundos\n",
            "3ª imagem iniciou!\n",
            "Tempo de análise da 3ª imagem: 81.0080 segundos\n",
            "4ª imagem iniciou!\n",
            "Tempo de análise da 4ª imagem: 56.8547 segundos\n",
            "5ª imagem iniciou!\n",
            "Tempo de análise da 5ª imagem: 32.4630 segundos\n",
            "6ª imagem iniciou!\n",
            "Tempo de análise da 6ª imagem: 59.2772 segundos\n",
            "7ª imagem iniciou!\n"
          ]
        }
      ],
      "source": [
        "import os\n",
        "import json\n",
        "import time\n",
        "\n",
        "shuffled_df = test_df.sample(frac=1, random_state=42).reset_index(drop=True)\n",
        "list_image = ['/content/Image/train-image/image/'+i+'.jpg' for i in shuffled_df.isic_id.values]\n",
        "result_dict = dict()\n",
        "for j, path in enumerate(list_image):\n",
        "  start_time = time.time()\n",
        "  print(f'{j+1}ª imagem iniciou!')\n",
        "  i = path.split('/')[-1].replace('.jpg', '')\n",
        "  for event in g.stream({\"image_path\": path, 'lesion_size': test_df[test_df['isic_id'] == i]['clin_size_long_diam_mm'].values[0]}, stream_mode=\"values\"):\n",
        "    for e in ['image_data', 'seg_image_data']:\n",
        "      event.pop(e, None)\n",
        "    event['real_value'] = int(test_df[test_df['isic_id'] == i]['target'].values[0])\n",
        "    result_dict[path] = event\n",
        "    with open(\"llm_result.json\", \"w\", encoding=\"utf-8\") as arquivo:\n",
        "      json.dump(result_dict, arquivo, indent=4, ensure_ascii=False)\n",
        "  elapsed_time = time.time() - start_time\n",
        "  print(f\"Tempo de análise da {j+1}ª imagem: {elapsed_time:.4f} segundos\")"
      ]
    },
    {
      "cell_type": "code",
      "source": [
        "# prompt: Gere um código que salve o arquivo llm_result.json no meu google drive\n",
        "\n",
        "from google.colab import drive\n",
        "drive.mount('/content/drive')\n",
        "\n",
        "# Assuming your script has already created llm_result.json in /content\n",
        "\n",
        "!cp /content/llm_result.json /content/drive/My\\ Drive/\n",
        "\n",
        "#Verification\n",
        "!ls -l /content/drive/My\\ Drive/llm_result.json\n"
      ],
      "metadata": {
        "colab": {
          "base_uri": "https://localhost:8080/"
        },
        "id": "p0pO4YY0hfo5",
        "outputId": "6c7984c5-7621-4ef8-add9-64b8785d93d8"
      },
      "execution_count": 72,
      "outputs": [
        {
          "output_type": "stream",
          "name": "stdout",
          "text": [
            "Drive already mounted at /content/drive; to attempt to forcibly remount, call drive.mount(\"/content/drive\", force_remount=True).\n",
            "-rw------- 1 root root 197091 Apr 12 11:42 '/content/drive/My Drive/llm_result.json'\n"
          ]
        }
      ]
    },
    {
      "cell_type": "code",
      "source": [
        "!cp /content/Image/train-image/image/ISIC_8966407.jpg /content/ISIC_8966407.jpg"
      ],
      "metadata": {
        "id": "bTH52OA1VfD2"
      },
      "execution_count": null,
      "outputs": []
    },
    {
      "cell_type": "code",
      "execution_count": 13,
      "metadata": {
        "id": "o3RBr9Zeb7gC"
      },
      "outputs": [],
      "source": [
        "i=\"ISIC_9972649\"\n",
        "dict_state = {\n",
        "    \"image_path\": f'/content/Image/train-image/image/{i}.jpg',\n",
        "    \"lesion_size\": dt_ref[dt_ref['isic_id'] == i]['clin_size_long_diam_mm'].values[0]\n",
        "}\n",
        "for event in g.stream(dict_state, stream_mode=\"values\"):\n",
        "  pass"
      ]
    },
    {
      "cell_type": "code",
      "execution_count": 14,
      "metadata": {
        "id": "9kcOypmfdllI",
        "colab": {
          "base_uri": "https://localhost:8080/"
        },
        "outputId": "e996c135-864f-457e-f37a-8171fb467423"
      },
      "outputs": [
        {
          "output_type": "stream",
          "name": "stdout",
          "text": [
            "Prognóstico:\n",
            "\t  ```json\n",
            "{\n",
            "  \"Diagnóstico Final\": \"Lesão Indeterminada\",\n",
            "  \"Justificativa\": \"Na análise dos algoritmos fornecidos (ABCD, Menzies e SPCL), não houve um consenso claro sobre o diagnóstico da lesão cutânea. O ABCD mencionou a possibilidade de melanoma, mas também levantou questões sobre assimetria e bordas irregulares. Já o Menzies enfatizou a necessidade de consulta com um profissional de saúde qualificado para uma avaliação precisa. O SPCL indicou que a lesão não apresenta sangramento ou secreção, mas não foi possível determinar se é benigna ou maligna com base nas informações fornecidas. Considerando esses fatores, o diagnóstico final é considerado indeterminado e requer mais avaliações clínicas.\",\n",
            "  \"Recomendações\": \"É recomendável que o paciente consulte um dermatologista ou um profissional de saúde qualificado para uma avaliação clínica completa, incluindo exames adicionais como biópsia se necessário.\"\n",
            "}\n",
            "``` \n",
            " ==================================================================================================== \n",
            "\n"
          ]
        }
      ],
      "source": [
        "# print(\"Diagnóstico ABCD:\\n\\t\", event['diagnosis_abcd'],'\\n', 100*\"=\",'\\n')\n",
        "#print(\"Diagnóstico por Padrão:\\n\\t\", event['diagnosis_pattern'],'\\n', 100*\"=\",'\\n')\n",
        "# print(\"Diagnóstico Menzies:\\n\\t\", event['diagnosis_menzies'],'\\n', 100*\"=\",'\\n')\n",
        "# print(\"Diagnóstico:\\n\\t\", event['diagnosis_spcl'],'\\n', 100*\"=\",'\\n')\n",
        "#print(\"Diagnóstico:\\n\\t\", event['diagnosis_wspcl'],'\\n', 100*\"=\",'\\n')\n",
        "print(\"Prognóstico:\\n\\t\", event['validation'],'\\n', 100*\"=\",'\\n')\n",
        "#print(\"Relatório:\\n\\t\", event['validation'])"
      ]
    },
    {
      "cell_type": "code",
      "source": [
        "print(event['diagnosis_menzies'] )"
      ],
      "metadata": {
        "colab": {
          "base_uri": "https://localhost:8080/"
        },
        "id": "GB9at-nOpbjS",
        "outputId": "c7cb7fb2-f21f-4a33-f177-6122ed497c47"
      },
      "execution_count": null,
      "outputs": [
        {
          "output_type": "stream",
          "name": "stdout",
          "text": [
            " ```json\n",
            "      {\n",
            "        \"Características Negativas\": {\n",
            "          \"Simetria do Padrão de Pigmentação\": 0,\n",
            "          \"Cor Única\": 1,\n",
            "          \"Véu Azul-Branco\": 0,\n",
            "          \"Múltiplos Pontos Marrons\": 1,\n",
            "          \"Pseudópodes\": 0,\n",
            "          \"Streaming Radial\": 0,\n",
            "          \"Despigmentação Tipo Cicatriz\": 1,\n",
            "          \"Pontos/Globulos Pretos Periféricos\": 0,\n",
            "          \"Múltiplas Cores\": 1\n",
            "        },\n",
            "        \"Características Positivas\": {\n",
            "          \"Véu Azul-Branco\": 0,\n",
            "          \"Múltiplos Pontos Marrons\": 1,\n",
            "          \"Pseudópodes\": 0,\n",
            "          \"Streaming Radial\": 0,\n",
            "          \"Despigmentação Tipo Cicatriz\": 1,\n",
            "          \"Pontos/Globulos Pretos Periféricos\": 0,\n",
            "          \"Múltiplas Cores\": 1\n",
            "        },\n",
            "        \"Explicação\": \"A lesão apresenta cor única e não se aplica as características positivas completas. A ausência de véu azul-branco, pseudópodes e múltiplas cores pode ser considerada um fator negativo para o diagnóstico de melanoma. A presença única de pontos pretos periféricos e do veículo cutâneo não é suficiente para avaliar completamente o risco de malignidade. O diagnóstico precisaria considerar outras características, como a mudança da lesão ao longo do tempo, sua localização, e o comportamento das bordas da lesão. É importante lembrar que apenas um diagnóstico por parte de um médico pode fornecer uma avaliação confiável sobre a condição de saúde.\"\n",
            "      }\n",
            "       ``` \n"
          ]
        }
      ]
    },
    {
      "cell_type": "code",
      "source": [
        "import json\n",
        "b = json.loads(event['diagnosis_menzies'].replace(\"```json\", \"\").replace(\"```\", \"\"))"
      ],
      "metadata": {
        "id": "UWgOKOoPmmNC"
      },
      "execution_count": null,
      "outputs": []
    },
    {
      "cell_type": "code",
      "source": [
        "# Score ABCD\n",
        "a = json.loads(event['diagnosis_abcd'].replace(\"```json\", \"\").replace(\"```\", \"\"))\n",
        "sum_product = sum(x * y for x, y in zip(a['Pontos'].values(), [1.3, .1, .5, .5]))"
      ],
      "metadata": {
        "id": "9kKxMAADopZa"
      },
      "execution_count": null,
      "outputs": []
    },
    {
      "cell_type": "code",
      "source": [
        "sum_product"
      ],
      "metadata": {
        "colab": {
          "base_uri": "https://localhost:8080/"
        },
        "id": "NkEgLKYjnXqj",
        "outputId": "83315bd1-4050-482f-e85a-acc2b6d3475e"
      },
      "execution_count": null,
      "outputs": [
        {
          "output_type": "execute_result",
          "data": {
            "text/plain": [
              "3.7"
            ]
          },
          "metadata": {},
          "execution_count": 42
        }
      ]
    },
    {
      "cell_type": "markdown",
      "source": [
        "# Testes de desenvolvimento"
      ],
      "metadata": {
        "id": "KWnaYeeCqSw2"
      }
    },
    {
      "cell_type": "code",
      "source": [
        "im = T.ToPILImage()(event['im_teste'][3][0])\n",
        "im"
      ],
      "metadata": {
        "colab": {
          "base_uri": "https://localhost:8080/",
          "height": 177
        },
        "id": "aiuqcyPnj2Ne",
        "outputId": "ec96fc24-c6de-413f-8dd8-99dbada09784"
      },
      "execution_count": null,
      "outputs": [
        {
          "output_type": "execute_result",
          "data": {
            "text/plain": [
              "<PIL.Image.Image image mode=RGB size=256x160>"
            ],
            "image/png": "[encoded data removed]",
            "image/jpeg": "[encoded data removed]"
          },
          "metadata": {},
          "execution_count": 55
        }
      ]
    },
    {
      "cell_type": "code",
      "source": [
        "import base64\n",
        "from io import BytesIO\n",
        "from PIL import Image\n",
        "\n",
        "def base64_to_image(base64_string):\n",
        "    # Decodificar a string Base64 para bytes\n",
        "    image_bytes = base64.b64decode(base64_string)\n",
        "\n",
        "    # Criar um buffer de memória e carregar a imagem com PIL\n",
        "    image = Image.open(BytesIO(image_bytes))\n",
        "\n",
        "    return image\n",
        "\n",
        "# Exemplo de uso com uma string Base64 (substitua pela sua)\n",
        "base64_string = event[\"image_data\"]\n",
        "\n",
        "# Converter e exibir a imagem\n",
        "img = base64_to_image(base64_string)\n",
        "img  # Exibe a imagem"
      ],
      "metadata": {
        "colab": {
          "base_uri": "https://localhost:8080/",
          "height": 209
        },
        "id": "9bgYLHNYk-rG",
        "outputId": "d65a5fbf-b517-4afa-a506-c4aa43f2fda3"
      },
      "execution_count": null,
      "outputs": [
        {
          "output_type": "execute_result",
          "data": {
            "text/plain": [
              "<PIL.JpegImagePlugin.JpegImageFile image mode=RGB size=256x192>"
            ],
            "image/png": "[encoded data removed]",
            "image/jpeg": "[encoded data removed]"
          },
          "metadata": {},
          "execution_count": 12
        }
      ]
    },
    {
      "cell_type": "code",
      "execution_count": null,
      "metadata": {
        "id": "t1hYoAmrsP_a"
      },
      "outputs": [],
      "source": [
        "for k, v in result_dict.items():\n",
        "  print(k, \":\\n\\t\")\n",
        "  print(\"Diagnóstico:\\n\\t\", v['diagnosis'],'\\n', 100*\"=\",'\\n')\n",
        "  print(\"Prognóstico:\\n\\t\", v['prognosis'],'\\n', 100*\"=\",'\\n')\n",
        "  print(\"Relatório:\\n\\t\", v['validation'])"
      ]
    },
    {
      "cell_type": "code",
      "execution_count": null,
      "metadata": {
        "colab": {
          "base_uri": "https://localhost:8080/"
        },
        "id": "whEIvA8GnEiH",
        "outputId": "5da25e62-501b-422d-b9f3-04ba487f9c8f"
      },
      "outputs": [
        {
          "data": {
            "text/plain": [
              "torch.Size([1, 192, 256])"
            ]
          },
          "execution_count": 133,
          "metadata": {},
          "output_type": "execute_result"
        }
      ],
      "source": [
        "event['im_teste'][1].squeeze(0).shape"
      ]
    },
    {
      "cell_type": "code",
      "source": [
        "def convert_to_base64(pil_image):\n",
        "  \"\"\"\n",
        "  Convert PIL images to Base64 encoded strings\n",
        "\n",
        "  :param pil_image: PIL image\n",
        "  :return: Base64 string\n",
        "  \"\"\"\n",
        "  pil_image = pil_image.convert(\"RGB\")\n",
        "  buffered = BytesIO()\n",
        "  pil_image.save(buffered, format=\"JPEG\")  # You can change the format if needed\n",
        "  img_str = base64.b64encode(buffered.getvalue()).decode(\"utf-8\")\n",
        "  return img_str"
      ],
      "metadata": {
        "id": "FXSj5HDMnpQp"
      },
      "execution_count": null,
      "outputs": []
    },
    {
      "cell_type": "code",
      "execution_count": null,
      "metadata": {
        "id": "LWfd-eW6uf_e"
      },
      "outputs": [],
      "source": [
        "import base64\n",
        "from langchain_core.messages import HumanMessage\n",
        "\n",
        "\n",
        "# # Caminho da imagem\n",
        "image_path = \"/content/Image/train-image/image/ISIC_8966407.jpg\"\n",
        "\n",
        "# # Converter a imagem para Base64\n",
        "with open(image_path, \"rb\") as image_file:\n",
        "    encoded_string = base64.b64encode(image_file.read()).decode(\"utf-8\")\n",
        "# encoded_string=\"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\"\n",
        "# encoded_string=image_path\n",
        "\n",
        "# msg = [{\"role\": \"user\",\n",
        "#         # \"content\": \"Descreva a imagem\",\n",
        "#         \"content\": \"What is in this picture?\",\n",
        "#         # \"content\": \"Descreva a imagem com base no checklist de 7 pontos para detecção de cancer de pele .\",\n",
        "#         \"image\": [encoded_string]\n",
        "#         }]\n",
        "# encoded_string = event['image_data']\n",
        "# encoded_string = convert_to_base64(T.ToPILImage()(event['im_teste'][3][0]))\n",
        "content_str = \"\"\"\n",
        "Chat, você conhece o algoritmo ABCD para identificação de melanoma maligno? Poderia descreve-lo para mim com base na imagem que estou te entregando?\n",
        "\"\"\"\n",
        "content = [\n",
        "    {'type': 'image_url', 'image_url': f'data:image/jpeg;base64,{encoded_string}'},\n",
        "    {'type': 'text', 'text': content_str}\n",
        "]\n",
        "msg = [HumanMessage(content=content)]\n",
        "response = llm.invoke(msg)\n",
        "print(response.content)"
      ]
    },
    {
      "cell_type": "code",
      "source": [
        "!cp /content/Image/train-image/image/ISIC_9972649.jpg /content/ISIC_9972649.jpg"
      ],
      "metadata": {
        "id": "8mrKbzWL1bgf"
      },
      "execution_count": null,
      "outputs": []
    },
    {
      "cell_type": "code",
      "source": [
        "dt_ref[dt_ref['target'] == 1]['isic_id']"
      ],
      "metadata": {
        "colab": {
          "base_uri": "https://localhost:8080/",
          "height": 458
        },
        "id": "1hDv3PcM2GbW",
        "outputId": "68e67c96-e71e-46c0-82dc-f5b4567b3154"
      },
      "execution_count": null,
      "outputs": [
        {
          "output_type": "execute_result",
          "data": {
            "text/plain": [
              "387       ISIC_0082829\n",
              "935       ISIC_0096034\n",
              "1245      ISIC_0104229\n",
              "1846      ISIC_0119495\n",
              "3478      ISIC_0157834\n",
              "              ...     \n",
              "396165    ISIC_9877311\n",
              "398671    ISIC_9941636\n",
              "399936    ISIC_9972649\n",
              "399943    ISIC_9972877\n",
              "400922    ISIC_9996602\n",
              "Name: isic_id, Length: 393, dtype: object"
            ],
            "text/html": [
              "<div>\n",
              "<style scoped>\n",
              "    .dataframe tbody tr th:only-of-type {\n",
              "        vertical-align: middle;\n",
              "    }\n",
              "\n",
              "    .dataframe tbody tr th {\n",
              "        vertical-align: top;\n",
              "    }\n",
              "\n",
              "    .dataframe thead th {\n",
              "        text-align: right;\n",
              "    }\n",
              "</style>\n",
              "<table border=\"1\" class=\"dataframe\">\n",
              "  <thead>\n",
              "    <tr style=\"text-align: right;\">\n",
              "      <th></th>\n",
              "      <th>isic_id</th>\n",
              "    </tr>\n",
              "  </thead>\n",
              "  <tbody>\n",
              "    <tr>\n",
              "      <th>387</th>\n",
              "      <td>ISIC_0082829</td>\n",
              "    </tr>\n",
              "    <tr>\n",
              "      <th>935</th>\n",
              "      <td>ISIC_0096034</td>\n",
              "    </tr>\n",
              "    <tr>\n",
              "      <th>1245</th>\n",
              "      <td>ISIC_0104229</td>\n",
              "    </tr>\n",
              "    <tr>\n",
              "      <th>1846</th>\n",
              "      <td>ISIC_0119495</td>\n",
              "    </tr>\n",
              "    <tr>\n",
              "      <th>3478</th>\n",
              "      <td>ISIC_0157834</td>\n",
              "    </tr>\n",
              "    <tr>\n",
              "      <th>...</th>\n",
              "      <td>...</td>\n",
              "    </tr>\n",
              "    <tr>\n",
              "      <th>396165</th>\n",
              "      <td>ISIC_9877311</td>\n",
              "    </tr>\n",
              "    <tr>\n",
              "      <th>398671</th>\n",
              "      <td>ISIC_9941636</td>\n",
              "    </tr>\n",
              "    <tr>\n",
              "      <th>399936</th>\n",
              "      <td>ISIC_9972649</td>\n",
              "    </tr>\n",
              "    <tr>\n",
              "      <th>399943</th>\n",
              "      <td>ISIC_9972877</td>\n",
              "    </tr>\n",
              "    <tr>\n",
              "      <th>400922</th>\n",
              "      <td>ISIC_9996602</td>\n",
              "    </tr>\n",
              "  </tbody>\n",
              "</table>\n",
              "<p>393 rows × 1 columns</p>\n",
              "</div><br><label><b>dtype:</b> object</label>"
            ]
          },
          "metadata": {},
          "execution_count": 79
        }
      ]
    },
    {
      "cell_type": "code",
      "source": [
        "print(f\"\"\"\n",
        "        Duas imagens foram fornecidas para análise:\n",
        "          1️⃣ Imagem original da lesão de pele, que mantém seu contexto visual completo.\n",
        "          2️⃣ Imagem segmentada, que realça os contornos e características internas da lesão.\n",
        "\n",
        "        Por favor, observe as características da mancha ou pinta nas imagens fornecidas e retorne uma resposta no\n",
        "        seguinte formato JSON, baseado nas observações visuais:\n",
        "        Adicionalmente, o maior diâmetro da lesão é de {4.18} mm.\n",
        "        {{\n",
        "          \"Pontos\": {{\n",
        "            \"Assimetria\": \"Sim ou Não. Motivo\",\n",
        "            \"Bordas Irregulares\": \"Sim ou Não. Motivo\",\n",
        "            \"Cor Desigual\": \"Sim ou Não. Motivo\",\n",
        "            \"Diâmetro Maior que 6 mm\": \"Sim ou Não. Motivo\",\n",
        "\n",
        "            \"Sangramento ou Secreção\": \"Sim ou Não. Motivo\"\n",
        "          }},\n",
        "          \"Resposta Final\": \"Quantidade de 'Sim' nos pontos\"\n",
        "        }}\n",
        "        Cada campo deve conter 'Sim' ou 'Não', seguido de uma explicação breve do motivo da observação (por exemplo, 'Sim, a mancha é assimétrica', ou 'Não, as bordas são regulares'). A resposta final será a contagem do número de 'Sim' nos pontos observados.\n",
        "      \"\"\")"
      ],
      "metadata": {
        "id": "kSUnew-ijqri",
        "colab": {
          "base_uri": "https://localhost:8080/"
        },
        "outputId": "68419b33-9397-453a-aa88-ea0f2fd90161"
      },
      "execution_count": null,
      "outputs": [
        {
          "output_type": "stream",
          "name": "stdout",
          "text": [
            "\n",
            "        Duas imagens foram fornecidas para análise:\n",
            "          1️⃣ Imagem original da lesão de pele, que mantém seu contexto visual completo.\n",
            "          2️⃣ Imagem segmentada, que realça os contornos e características internas da lesão.\n",
            "\n",
            "        Por favor, observe as características da mancha ou pinta nas imagens fornecidas e retorne uma resposta no \n",
            "        seguinte formato JSON, baseado nas observações visuais:\n",
            "        Adicionalmente, o maior diâmetro da lesão é de 4.18 mm.\n",
            "        {\n",
            "          \"Pontos\": {\n",
            "            \"Assimetria\": \"Sim ou Não. Motivo\",\n",
            "            \"Bordas Irregulares\": \"Sim ou Não. Motivo\",\n",
            "            \"Cor Desigual\": \"Sim ou Não. Motivo\",\n",
            "            \"Diâmetro Maior que 6 mm\": \"Sim ou Não. Motivo\",\n",
            "\n",
            "            \"Sangramento ou Secreção\": \"Sim ou Não. Motivo\"\n",
            "          },\n",
            "          \"Resposta Final\": \"Quantidade de 'Sim' nos pontos\"\n",
            "        }\n",
            "        Cada campo deve conter 'Sim' ou 'Não', seguido de uma explicação breve do motivo da observação (por exemplo, 'Sim, a mancha é assimétrica', ou 'Não, as bordas são regulares'). A resposta final será a contagem do número de 'Sim' nos pontos observados.\n",
            "      \n"
          ]
        }
      ]
    }
  ],
  "metadata": {
    "colab": {
      "provenance": [],
      "collapsed_sections": [
        "cT-yn2CHaUdK",
        "e8oGdw2EaY3L"
      ],
      "gpuType": "T4"
    },
    "kernelspec": {
      "display_name": "Python 3",
      "name": "python3"
    },
    "language_info": {
      "name": "python"
    },
    "accelerator": "GPU"
  },
  "nbformat": 4,
  "nbformat_minor": 0
}